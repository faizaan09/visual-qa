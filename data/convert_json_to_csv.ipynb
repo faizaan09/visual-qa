{
 "cells": [
  {
   "cell_type": "code",
   "execution_count": 3,
   "metadata": {},
   "outputs": [],
   "source": [
    "import pandas as pd"
   ]
  },
  {
   "cell_type": "code",
   "execution_count": 4,
   "metadata": {},
   "outputs": [],
   "source": [
    "## Load the json files to be converted\n",
    "# json_file = 'vqa_base_train.json'\n",
    "# csv_file = 'vqa_base_train.csv'\n",
    "json_file = 'vqa_base_test.json'\n",
    "csv_file = 'vqa_base_test.csv'"
   ]
  },
  {
   "cell_type": "code",
   "execution_count": 5,
   "metadata": {},
   "outputs": [
    {
     "data": {
      "text/html": [
       "<div>\n",
       "<style scoped>\n",
       "    .dataframe tbody tr th:only-of-type {\n",
       "        vertical-align: middle;\n",
       "    }\n",
       "\n",
       "    .dataframe tbody tr th {\n",
       "        vertical-align: top;\n",
       "    }\n",
       "\n",
       "    .dataframe thead th {\n",
       "        text-align: right;\n",
       "    }\n",
       "</style>\n",
       "<table border=\"1\" class=\"dataframe\">\n",
       "  <thead>\n",
       "    <tr style=\"text-align: right;\">\n",
       "      <th></th>\n",
       "      <th>ans</th>\n",
       "      <th>img_path</th>\n",
       "      <th>ques_id</th>\n",
       "      <th>question</th>\n",
       "    </tr>\n",
       "  </thead>\n",
       "  <tbody>\n",
       "    <tr>\n",
       "      <th>0</th>\n",
       "      <td>21</td>\n",
       "      <td>82460</td>\n",
       "      <td>3506232</td>\n",
       "      <td>What is the table made of?</td>\n",
       "    </tr>\n",
       "    <tr>\n",
       "      <th>1</th>\n",
       "      <td>1</td>\n",
       "      <td>82460</td>\n",
       "      <td>3506230</td>\n",
       "      <td>Is the food napping on the table?</td>\n",
       "    </tr>\n",
       "    <tr>\n",
       "      <th>2</th>\n",
       "      <td>1</td>\n",
       "      <td>82461</td>\n",
       "      <td>86472</td>\n",
       "      <td>Is this an Spanish town?</td>\n",
       "    </tr>\n",
       "    <tr>\n",
       "      <th>3</th>\n",
       "      <td>0</td>\n",
       "      <td>82461</td>\n",
       "      <td>86470</td>\n",
       "      <td>Are there shadows on the sidewalk?</td>\n",
       "    </tr>\n",
       "    <tr>\n",
       "      <th>4</th>\n",
       "      <td>108</td>\n",
       "      <td>82461</td>\n",
       "      <td>86471</td>\n",
       "      <td>What is in the top right corner?</td>\n",
       "    </tr>\n",
       "  </tbody>\n",
       "</table>\n",
       "</div>"
      ],
      "text/plain": [
       "   ans  img_path  ques_id                            question\n",
       "0   21     82460  3506232          What is the table made of?\n",
       "1    1     82460  3506230   Is the food napping on the table?\n",
       "2    1     82461    86472            Is this an Spanish town?\n",
       "3    0     82461    86470  Are there shadows on the sidewalk?\n",
       "4  108     82461    86471    What is in the top right corner?"
      ]
     },
     "execution_count": 5,
     "metadata": {},
     "output_type": "execute_result"
    }
   ],
   "source": [
    "data = pd.read_json(path_or_buf=json_file, orient='records')\n",
    "data.head()"
   ]
  },
  {
   "cell_type": "code",
   "execution_count": 6,
   "metadata": {},
   "outputs": [
    {
     "data": {
      "text/plain": [
       "(104456, 4)"
      ]
     },
     "execution_count": 6,
     "metadata": {},
     "output_type": "execute_result"
    }
   ],
   "source": [
    "data.shape"
   ]
  },
  {
   "cell_type": "code",
   "execution_count": 8,
   "metadata": {},
   "outputs": [
    {
     "data": {
      "text/plain": [
       "0      27890\n",
       "1      17744\n",
       "2       3835\n",
       "4       2296\n",
       "3       2277\n",
       "5       2111\n",
       "7       1707\n",
       "6       1700\n",
       "9       1319\n",
       "8       1231\n",
       "10      1167\n",
       "11       922\n",
       "12       864\n",
       "13       715\n",
       "14       561\n",
       "17       531\n",
       "20       510\n",
       "16       498\n",
       "19       469\n",
       "15       463\n",
       "18       461\n",
       "23       443\n",
       "26       418\n",
       "25       408\n",
       "22       399\n",
       "21       391\n",
       "24       378\n",
       "31       341\n",
       "33       301\n",
       "29       291\n",
       "       ...  \n",
       "833        4\n",
       "647        4\n",
       "978        4\n",
       "974        4\n",
       "874        4\n",
       "941        4\n",
       "963        4\n",
       "840        4\n",
       "788        4\n",
       "673        3\n",
       "940        3\n",
       "866        3\n",
       "976        3\n",
       "992        3\n",
       "693        3\n",
       "951        3\n",
       "750        3\n",
       "996        3\n",
       "937        3\n",
       "967        3\n",
       "834        3\n",
       "728        3\n",
       "942        2\n",
       "938        2\n",
       "946        2\n",
       "789        2\n",
       "886        2\n",
       "884        2\n",
       "923        2\n",
       "749        1\n",
       "Name: ans, Length: 1000, dtype: int64"
      ]
     },
     "execution_count": 8,
     "metadata": {},
     "output_type": "execute_result"
    }
   ],
   "source": [
    "data['ans'].value_counts()"
   ]
  },
  {
   "cell_type": "code",
   "execution_count": 5,
   "metadata": {},
   "outputs": [],
   "source": [
    "data.to_csv(path_or_buf=csv_file)"
   ]
  },
  {
   "cell_type": "code",
   "execution_count": null,
   "metadata": {},
   "outputs": [],
   "source": []
  }
 ],
 "metadata": {
  "kernelspec": {
   "display_name": "Python 3",
   "language": "python",
   "name": "python3"
  },
  "language_info": {
   "codemirror_mode": {
    "name": "ipython",
    "version": 3
   },
   "file_extension": ".py",
   "mimetype": "text/x-python",
   "name": "python",
   "nbconvert_exporter": "python",
   "pygments_lexer": "ipython3",
   "version": "3.6.4"
  }
 },
 "nbformat": 4,
 "nbformat_minor": 2
}
